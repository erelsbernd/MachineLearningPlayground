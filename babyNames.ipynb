{
 "cells": [
  {
   "cell_type": "code",
   "execution_count": 36,
   "metadata": {
    "collapsed": false
   },
   "outputs": [
    {
     "ename": "ImportError",
     "evalue": "cannot import name 'train_test_split'",
     "output_type": "error",
     "traceback": [
      "\u001b[0;31m---------------------------------------------------------------------------\u001b[0m",
      "\u001b[0;31mImportError\u001b[0m                               Traceback (most recent call last)",
      "\u001b[0;32m<ipython-input-36-7c59554b53e6>\u001b[0m in \u001b[0;36m<module>\u001b[0;34m()\u001b[0m\n\u001b[1;32m      5\u001b[0m \u001b[0;32mimport\u001b[0m \u001b[0msklearn\u001b[0m\u001b[0;34m\u001b[0m\u001b[0m\n\u001b[1;32m      6\u001b[0m \u001b[0;32mfrom\u001b[0m \u001b[0msklearn\u001b[0m\u001b[0;34m.\u001b[0m\u001b[0mensemble\u001b[0m \u001b[0;32mimport\u001b[0m \u001b[0mRandomForestClassifier\u001b[0m \u001b[0;32mas\u001b[0m \u001b[0mrfc\u001b[0m\u001b[0;34m\u001b[0m\u001b[0m\n\u001b[0;32m----> 7\u001b[0;31m \u001b[0;32mfrom\u001b[0m \u001b[0msklearn\u001b[0m\u001b[0;34m.\u001b[0m\u001b[0mensemble\u001b[0m \u001b[0;32mimport\u001b[0m \u001b[0mtrain_test_split\u001b[0m\u001b[0;34m,\u001b[0m \u001b[0mcross_val_score\u001b[0m\u001b[0;34m\u001b[0m\u001b[0m\n\u001b[0m\u001b[1;32m      8\u001b[0m \u001b[0;34m\u001b[0m\u001b[0m\n\u001b[1;32m      9\u001b[0m \u001b[0;31m#url = \"https://www.ssa.gov/oact/babynames/names.zip\"\u001b[0m\u001b[0;34m\u001b[0m\u001b[0;34m\u001b[0m\u001b[0m\n",
      "\u001b[0;31mImportError\u001b[0m: cannot import name 'train_test_split'"
     ]
    }
   ],
   "source": [
    "#Baby names analysis\n",
    "\n",
    "import pandas as pd\n",
    "import numpy as np\n",
    "import sklearn\n",
    "from sklearn.ensemble import RandomForestClassifier as rfc\n",
    "from sklearn.ensemble import train_test_split, cross_val_score\n",
    "\n",
    "#url = \"https://www.ssa.gov/oact/babynames/names.zip\"\n",
    "col_names = ['ID', 'Name', 'Year', 'Gender', 'Count']\n",
    "#name_data = np.genfromtxt(\"yob2015.txt\", dtype = None, names = col_names,delimiter = ',')\n",
    "names = pd.read_csv(\"yob2015.txt\", header = None, names = col_names)"
   ]
  },
  {
   "cell_type": "code",
   "execution_count": 32,
   "metadata": {
    "collapsed": false
   },
   "outputs": [],
   "source": [
    "#names = pd.DataFrame(name_data)"
   ]
  },
  {
   "cell_type": "code",
   "execution_count": 33,
   "metadata": {
    "collapsed": false
   },
   "outputs": [
    {
     "data": {
      "text/plain": [
       "<bound method NDFrame.head of               ID Name   Year  Gender  Count\n",
       "0           Emma    F  20355     NaN    NaN\n",
       "1         Olivia    F  19553     NaN    NaN\n",
       "2         Sophia    F  17327     NaN    NaN\n",
       "3            Ava    F  16286     NaN    NaN\n",
       "4       Isabella    F  15504     NaN    NaN\n",
       "5            Mia    F  14820     NaN    NaN\n",
       "6        Abigail    F  12311     NaN    NaN\n",
       "7          Emily    F  11727     NaN    NaN\n",
       "8      Charlotte    F  11332     NaN    NaN\n",
       "9         Harper    F  10241     NaN    NaN\n",
       "10       Madison    F  10038     NaN    NaN\n",
       "11        Amelia    F   9795     NaN    NaN\n",
       "12     Elizabeth    F   9656     NaN    NaN\n",
       "13         Sofia    F   9650     NaN    NaN\n",
       "14        Evelyn    F   9313     NaN    NaN\n",
       "15         Avery    F   9298     NaN    NaN\n",
       "16         Chloe    F   7884     NaN    NaN\n",
       "17          Ella    F   7852     NaN    NaN\n",
       "18         Grace    F   7589     NaN    NaN\n",
       "19      Victoria    F   7575     NaN    NaN\n",
       "20        Aubrey    F   7357     NaN    NaN\n",
       "21      Scarlett    F   7100     NaN    NaN\n",
       "22          Zoey    F   6900     NaN    NaN\n",
       "23       Addison    F   6683     NaN    NaN\n",
       "24          Lily    F   6617     NaN    NaN\n",
       "25       Lillian    F   6571     NaN    NaN\n",
       "26       Natalie    F   6466     NaN    NaN\n",
       "27        Hannah    F   6372     NaN    NaN\n",
       "28          Aria    F   6371     NaN    NaN\n",
       "29         Layla    F   6289     NaN    NaN\n",
       "...          ...  ...    ...     ...    ...\n",
       "32922      Zavon    M      5     NaN    NaN\n",
       "32923        Zay    M      5     NaN    NaN\n",
       "32924     Zaylor    M      5     NaN    NaN\n",
       "32925    Zayquan    M      5     NaN    NaN\n",
       "32926   Zecharia    M      5     NaN    NaN\n",
       "32927   Zecharya    M      5     NaN    NaN\n",
       "32928        Zee    M      5     NaN    NaN\n",
       "32929       Zeev    M      5     NaN    NaN\n",
       "32930       Zeik    M      5     NaN    NaN\n",
       "32931   Zekariah    M      5     NaN    NaN\n",
       "32932    Zepplin    M      5     NaN    NaN\n",
       "32933      Zerek    M      5     NaN    NaN\n",
       "32934       Zeyd    M      5     NaN    NaN\n",
       "32935        Zhi    M      5     NaN    NaN\n",
       "32936       Ziel    M      5     NaN    NaN\n",
       "32937      Zihan    M      5     NaN    NaN\n",
       "32938      Zihao    M      5     NaN    NaN\n",
       "32939     Ziheng    M      5     NaN    NaN\n",
       "32940     Zimere    M      5     NaN    NaN\n",
       "32941       Ziyi    M      5     NaN    NaN\n",
       "32942       Ziyu    M      5     NaN    NaN\n",
       "32943       Zoel    M      5     NaN    NaN\n",
       "32944      Zohar    M      5     NaN    NaN\n",
       "32945     Zolton    M      5     NaN    NaN\n",
       "32946       Zyah    M      5     NaN    NaN\n",
       "32947     Zykell    M      5     NaN    NaN\n",
       "32948     Zyking    M      5     NaN    NaN\n",
       "32949      Zykir    M      5     NaN    NaN\n",
       "32950      Zyrus    M      5     NaN    NaN\n",
       "32951       Zyus    M      5     NaN    NaN\n",
       "\n",
       "[32952 rows x 5 columns]>"
      ]
     },
     "execution_count": 33,
     "metadata": {},
     "output_type": "execute_result"
    }
   ],
   "source": [
    "names.head"
   ]
  },
  {
   "cell_type": "code",
   "execution_count": 34,
   "metadata": {
    "collapsed": false
   },
   "outputs": [
    {
     "data": {
      "text/plain": [
       "<bound method NDFrame.describe of               ID Name   Year  Gender  Count\n",
       "0           Emma    F  20355     NaN    NaN\n",
       "1         Olivia    F  19553     NaN    NaN\n",
       "2         Sophia    F  17327     NaN    NaN\n",
       "3            Ava    F  16286     NaN    NaN\n",
       "4       Isabella    F  15504     NaN    NaN\n",
       "5            Mia    F  14820     NaN    NaN\n",
       "6        Abigail    F  12311     NaN    NaN\n",
       "7          Emily    F  11727     NaN    NaN\n",
       "8      Charlotte    F  11332     NaN    NaN\n",
       "9         Harper    F  10241     NaN    NaN\n",
       "10       Madison    F  10038     NaN    NaN\n",
       "11        Amelia    F   9795     NaN    NaN\n",
       "12     Elizabeth    F   9656     NaN    NaN\n",
       "13         Sofia    F   9650     NaN    NaN\n",
       "14        Evelyn    F   9313     NaN    NaN\n",
       "15         Avery    F   9298     NaN    NaN\n",
       "16         Chloe    F   7884     NaN    NaN\n",
       "17          Ella    F   7852     NaN    NaN\n",
       "18         Grace    F   7589     NaN    NaN\n",
       "19      Victoria    F   7575     NaN    NaN\n",
       "20        Aubrey    F   7357     NaN    NaN\n",
       "21      Scarlett    F   7100     NaN    NaN\n",
       "22          Zoey    F   6900     NaN    NaN\n",
       "23       Addison    F   6683     NaN    NaN\n",
       "24          Lily    F   6617     NaN    NaN\n",
       "25       Lillian    F   6571     NaN    NaN\n",
       "26       Natalie    F   6466     NaN    NaN\n",
       "27        Hannah    F   6372     NaN    NaN\n",
       "28          Aria    F   6371     NaN    NaN\n",
       "29         Layla    F   6289     NaN    NaN\n",
       "...          ...  ...    ...     ...    ...\n",
       "32922      Zavon    M      5     NaN    NaN\n",
       "32923        Zay    M      5     NaN    NaN\n",
       "32924     Zaylor    M      5     NaN    NaN\n",
       "32925    Zayquan    M      5     NaN    NaN\n",
       "32926   Zecharia    M      5     NaN    NaN\n",
       "32927   Zecharya    M      5     NaN    NaN\n",
       "32928        Zee    M      5     NaN    NaN\n",
       "32929       Zeev    M      5     NaN    NaN\n",
       "32930       Zeik    M      5     NaN    NaN\n",
       "32931   Zekariah    M      5     NaN    NaN\n",
       "32932    Zepplin    M      5     NaN    NaN\n",
       "32933      Zerek    M      5     NaN    NaN\n",
       "32934       Zeyd    M      5     NaN    NaN\n",
       "32935        Zhi    M      5     NaN    NaN\n",
       "32936       Ziel    M      5     NaN    NaN\n",
       "32937      Zihan    M      5     NaN    NaN\n",
       "32938      Zihao    M      5     NaN    NaN\n",
       "32939     Ziheng    M      5     NaN    NaN\n",
       "32940     Zimere    M      5     NaN    NaN\n",
       "32941       Ziyi    M      5     NaN    NaN\n",
       "32942       Ziyu    M      5     NaN    NaN\n",
       "32943       Zoel    M      5     NaN    NaN\n",
       "32944      Zohar    M      5     NaN    NaN\n",
       "32945     Zolton    M      5     NaN    NaN\n",
       "32946       Zyah    M      5     NaN    NaN\n",
       "32947     Zykell    M      5     NaN    NaN\n",
       "32948     Zyking    M      5     NaN    NaN\n",
       "32949      Zykir    M      5     NaN    NaN\n",
       "32950      Zyrus    M      5     NaN    NaN\n",
       "32951       Zyus    M      5     NaN    NaN\n",
       "\n",
       "[32952 rows x 5 columns]>"
      ]
     },
     "execution_count": 34,
     "metadata": {},
     "output_type": "execute_result"
    }
   ],
   "source": []
  },
  {
   "cell_type": "code",
   "execution_count": 35,
   "metadata": {
    "collapsed": true
   },
   "outputs": [],
   "source": [
    "#create features and observations\n",
    "feature_cols = ['Name', 'Year']\n",
    "y = names.Gender"
   ]
  },
  {
   "cell_type": "code",
   "execution_count": null,
   "metadata": {
    "collapsed": true
   },
   "outputs": [],
   "source": []
  }
 ],
 "metadata": {
  "kernelspec": {
   "display_name": "Python 3",
   "language": "python",
   "name": "python3"
  },
  "language_info": {
   "codemirror_mode": {
    "name": "ipython",
    "version": 3
   },
   "file_extension": ".py",
   "mimetype": "text/x-python",
   "name": "python",
   "nbconvert_exporter": "python",
   "pygments_lexer": "ipython3",
   "version": "3.5.2"
  }
 },
 "nbformat": 4,
 "nbformat_minor": 0
}
